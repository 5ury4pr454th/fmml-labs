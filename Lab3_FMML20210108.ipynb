{
  "nbformat": 4,
  "nbformat_minor": 0,
  "metadata": {
    "colab": {
      "name": "Lab3_FMML20210108.ipynb",
      "provenance": [],
      "collapsed_sections": [],
      "include_colab_link": true
    },
    "kernelspec": {
      "name": "python3",
      "display_name": "Python 3"
    },
    "language_info": {
      "name": "python"
    }
  },
  "cells": [
    {
      "cell_type": "markdown",
      "metadata": {
        "id": "view-in-github",
        "colab_type": "text"
      },
      "source": [
        "<a href=\"https://colab.research.google.com/github/5ury4pr454th/fmml-labs/blob/master/Lab3_FMML20210108.ipynb\" target=\"_parent\"><img src=\"https://colab.research.google.com/assets/colab-badge.svg\" alt=\"Open In Colab\"/></a>"
      ]
    },
    {
      "cell_type": "markdown",
      "metadata": {
        "id": "w3yfry25JgZK"
      },
      "source": [
        "# Data augmentation\n",
        "\n",
        "FMML Module 1, Lab 3<br>\n",
        " Module Coordinator: Thrupthi Ann John thrupthi.ann@research.iiit.ac.in <br>\n",
        " Release date: 18 October 2021 <br>\n",
        "\n",
        " In this lab, we will see how augmentation of data samples help in improving the machine learning performance"
      ]
    },
    {
      "cell_type": "code",
      "metadata": {
        "id": "xZU8_elooqP0"
      },
      "source": [
        "import numpy as np\n",
        "import matplotlib.pyplot as plt\n",
        "from keras.datasets import mnist\n",
        "# set randomseed\n",
        "rng = np.random.default_rng(seed=42)\n",
        "from sklearn.utils.extmath import cartesian\n",
        "from skimage.transform import rotate, AffineTransform, warp\n",
        "import math"
      ],
      "execution_count": null,
      "outputs": []
    },
    {
      "cell_type": "markdown",
      "metadata": {
        "id": "T5pHYogSMHiE"
      },
      "source": [
        "Augmentation is useful when we have less training data available. Augmentation allows us to 'create' a larger dataset programatically. \n",
        "\n",
        "For this lab we will use a subset of MNIST that is very small, to better understand the effect of augmentation. "
      ]
    },
    {
      "cell_type": "code",
      "metadata": {
        "id": "gJvmWJ58ovx5",
        "colab": {
          "base_uri": "https://localhost:8080/"
        },
        "outputId": "99f0f3e7-4d21-4ade-c2d3-3ac6e7972e8a"
      },
      "source": [
        "#loading the dataset\n",
        "(train_X, train_y), (test_X, test_y) = mnist.load_data()\n",
        "# normalization\n",
        "train_X = train_X/255\n",
        "test_X = test_X/255\n",
        "\n",
        "train_X = train_X[::1200,:,:].copy() # subsample. Otherwise it will take too long!\n",
        "train_y = train_y[::1200].copy() # do the same to the labels\n"
      ],
      "execution_count": null,
      "outputs": [
        {
          "output_type": "stream",
          "name": "stdout",
          "text": [
            "Downloading data from https://storage.googleapis.com/tensorflow/tf-keras-datasets/mnist.npz\n",
            "11493376/11490434 [==============================] - 0s 0us/step\n",
            "11501568/11490434 [==============================] - 0s 0us/step\n"
          ]
        }
      ]
    },
    {
      "cell_type": "markdown",
      "metadata": {
        "id": "8XamH6z1Rt7S"
      },
      "source": [
        "Let us borrow a few functions from the previous labs:"
      ]
    },
    {
      "cell_type": "code",
      "metadata": {
        "id": "Zk2W5_3BRLMS"
      },
      "source": [
        "def NN1(traindata, trainlabel, query):\n",
        "  diff  = traindata - query  # find the difference between features. Numpy automatically takes care of the size here \n",
        "  sq = diff*diff # square the differences\n",
        "  dist = sq.sum(1) # add up the squares\n",
        "  label = trainlabel[np.argmin(dist)] # our predicted label is the label of the training data which has the least distance from the query\n",
        "  return label\n",
        "\n",
        "def NN(traindata, trainlabel, testdata):\n",
        "  # we will run nearest neighbour for each sample in the test data \n",
        "  # and collect the predicted classes in an array using list comprehension\n",
        "  traindata = traindata.reshape(-1, 28*28)\n",
        "  testdata = testdata.reshape(-1,28*28)\n",
        "  predlabel = np.array([NN1(traindata, trainlabel, i) for i in testdata])\n",
        "  return predlabel\n",
        "\n",
        "def Accuracy(gtlabel, predlabel):\n",
        "  assert len(gtlabel)==len(predlabel), \"Length of the groundtruth labels and predicted labels should be the same\"\n",
        "  correct = (gtlabel==predlabel).sum() # count the number of times the groundtruth label is equal to the predicted label.\n",
        "  return correct/len(gtlabel)"
      ],
      "execution_count": null,
      "outputs": []
    },
    {
      "cell_type": "markdown",
      "metadata": {
        "id": "eGiA3LmDSJZo"
      },
      "source": [
        "In this lab, we will use the image pixels themselves as features, instead of extracting features. Each image has 28*28 pixels, so we will flatten them to 784 pixels to use as features. Note that this is very compute intensive and will take a long time.<br>\n",
        "\n",
        "Let us check the baseline accuracy on the test set without any augmentations. We hope that adding augmentations will help us to get better results."
      ]
    },
    {
      "cell_type": "code",
      "metadata": {
        "id": "4tQvnoasRNEV",
        "colab": {
          "base_uri": "https://localhost:8080/"
        },
        "outputId": "75198b1e-4774-480f-ed1a-b5f286d8d87d"
      },
      "source": [
        "testpred = NN(train_X, train_y, test_X)\n",
        "print('Baseline accuracy without augmentation is ', Accuracy(test_y, testpred))"
      ],
      "execution_count": null,
      "outputs": [
        {
          "output_type": "stream",
          "name": "stdout",
          "text": [
            "Baseline accuracy without augmentation is  0.6472\n"
          ]
        }
      ]
    },
    {
      "cell_type": "markdown",
      "metadata": {
        "id": "ZfkcMfhIZQ7U"
      },
      "source": [
        "Let us try to improve this accuracy using augmentations. When we create augmentations, we have to make sure that the changes reflect what will naturally occur in the dataset. For example, we should not add colour to our samples as an augmentation because they do not naturally occur. We should not also flip the images in MNIST, because flipped images have different meanings for digits. \n",
        "\n",
        "### Augmentation 1: rotation\n",
        "\n",
        "Let us try rotating the image a little. We will use skimage library for this. "
      ]
    },
    {
      "cell_type": "code",
      "metadata": {
        "id": "z5WolJ9fZE7L",
        "colab": {
          "base_uri": "https://localhost:8080/",
          "height": 530
        },
        "outputId": "a8bc823d-2227-4bb9-d713-3e525cdc4624"
      },
      "source": [
        "plt.imshow(train_X[2], cmap='gray')\n",
        "plt.show()\n",
        "plt.imshow(rotate(train_X[2],45), cmap='gray')"
      ],
      "execution_count": null,
      "outputs": [
        {
          "output_type": "display_data",
          "data": {
            "image/png": "[encoded data removed]",
            "text/plain": [
              "<Figure size 432x288 with 1 Axes>"
            ]
          },
          "metadata": {
            "needs_background": "light"
          }
        },
        {
          "output_type": "execute_result",
          "data": {
            "text/plain": [
              "<matplotlib.image.AxesImage at 0x7fecbf354810>"
            ]
          },
          "metadata": {},
          "execution_count": 5
        },
        {
          "output_type": "display_data",
          "data": {
            "image/png": "[encoded data removed]",
            "text/plain": [
              "<Figure size 432x288 with 1 Axes>"
            ]
          },
          "metadata": {
            "needs_background": "light"
          }
        }
      ]
    },
    {
      "cell_type": "markdown",
      "metadata": {
        "id": "KE33Yxgggu0c"
      },
      "source": [
        "After rotating, the the class of the image is still the same. Let us make a function to rotate multiple images by random angles. We want a slightly different image every time we run this function. So, we generate a random number between 0 and 1 and change it so that it lies between -constraint/2 and +constraint/2"
      ]
    },
    {
      "cell_type": "code",
      "metadata": {
        "id": "vyM7pUV7Reze"
      },
      "source": [
        "def augRotate(sample, angleconstraint):\n",
        "  if angleconstraint==0:\n",
        "    return sample\n",
        "  if len(sample.shape)==2:\n",
        "    sample = np.expand_dims(sample, 0)  # make sure the sample is 3 dimensional\n",
        "  angle = rng.random(len(sample)) # generate random numbers for angles\n",
        "  angle = (angle-0.5)*angleconstraint # make the random angle constrained\n",
        "  # here angle - 0.5 varies from -0.5 to +0.5. Multiplying by contraint does the job\n",
        "  nsample = sample.copy() # preallocate the augmented array to make it faster\n",
        "  for ii in range(len(sample)):\n",
        "    nsample[ii] = rotate(sample[ii], angle[ii])\n",
        "  return np.squeeze(nsample) # take care if the input had only one sample. \n",
        "  # [[a]] - > [a], or [[a], [b]] ->   [[a], [b]] (depending on axis of squeezing, default is max axis)"
      ],
      "execution_count": null,
      "outputs": []
    },
    {
      "cell_type": "markdown",
      "metadata": {
        "id": "kDk-N5VNjar9"
      },
      "source": [
        "This function returns a slightly different image each time we call it. So we can increase the number of images in the sample by any multiple. "
      ]
    },
    {
      "cell_type": "code",
      "metadata": {
        "id": "Vw3O9zGFgI8K",
        "colab": {
          "base_uri": "https://localhost:8080/",
          "height": 414
        },
        "outputId": "1af937cd-ac00-45f1-ff99-6568e0a13e3e"
      },
      "source": [
        "sample = train_X[20] # take one image\n",
        "angleconstraint = 70\n",
        "# show the original image\n",
        "plt.imshow(sample, cmap='gray')\n",
        "plt.show()\n",
        "plt.subplot(1,3,1)\n",
        "plt.imshow(augRotate(sample, angleconstraint), cmap='gray') # show an augmented image\n",
        "plt.subplot(1,3,2)\n",
        "plt.imshow(augRotate(sample, angleconstraint), cmap='gray') # show another augmented image from the same sample\n",
        "plt.subplot(1,3,3)\n",
        "plt.imshow(augRotate(sample, angleconstraint), cmap='gray') # one more image from the same sample"
      ],
      "execution_count": null,
      "outputs": [
        {
          "output_type": "display_data",
          "data": {
            "image/png": "[encoded data removed]",
            "text/plain": [
              "<Figure size 432x288 with 1 Axes>"
            ]
          },
          "metadata": {
            "needs_background": "light"
          }
        },
        {
          "output_type": "execute_result",
          "data": {
            "text/plain": [
              "<matplotlib.image.AxesImage at 0x7fecbf23be10>"
            ]
          },
          "metadata": {},
          "execution_count": 7
        },
        {
          "output_type": "display_data",
          "data": {
            "image/png": "[encoded data removed]",
            "text/plain": [
              "<Figure size 432x288 with 3 Axes>"
            ]
          },
          "metadata": {
            "needs_background": "light"
          }
        }
      ]
    },
    {
      "cell_type": "markdown",
      "metadata": {
        "id": "ytv3NxF-kgxN"
      },
      "source": [
        "Let us augment the whole dataset and see if this improves the test accuracy"
      ]
    },
    {
      "cell_type": "code",
      "metadata": {
        "id": "iNzNAoDBkRzj",
        "colab": {
          "base_uri": "https://localhost:8080/"
        },
        "outputId": "784ea0fe-015b-49ae-e5ee-91506d097fff"
      },
      "source": [
        "# hyperparameters\n",
        "angleconstraint = 60\n",
        "naugmentations = 5\n",
        "\n",
        "# augment\n",
        "augdata = train_X # we include the original images also in the augmented dataset\n",
        "auglabel = train_y\n",
        "for ii in range(naugmentations):\n",
        "  augdata = np.concatenate((augdata, augRotate(train_X, angleconstraint))) # concatenate the augmented data to the set \n",
        "  auglabel = np.concatenate((auglabel, train_y))  # the labels don't change when we augment\n",
        "\n",
        "# check the test accuracy\n",
        "testpred = NN(augdata, auglabel, test_X)\n",
        "print('Accuracy after rotation augmentation is ', Accuracy(test_y, testpred))"
      ],
      "execution_count": null,
      "outputs": [
        {
          "output_type": "stream",
          "name": "stdout",
          "text": [
            "Accuracy after rotation augmentation is  0.6616\n"
          ]
        }
      ]
    },
    {
      "cell_type": "markdown",
      "metadata": {
        "id": "E88Nt9s1p5R6"
      },
      "source": [
        "The angle constraint is a hyperparameter which we have to tune using a validation set. (Here we are not doing that for time constraints). Let us try a grid search to find the best angle constraint."
      ]
    },
    {
      "cell_type": "code",
      "metadata": {
        "id": "aiaFRLREmGp6",
        "colab": {
          "base_uri": "https://localhost:8080/"
        },
        "outputId": "1db54946-f213-42b5-9c3b-ef9ee1dea43f"
      },
      "source": [
        "angleconstraints = [0,10,20,30,40,50,60,70,80,90] # the values we want to test\n",
        "accuracies = np.zeros(len(angleconstraints), dtype=np.float) # we will save the values here\n",
        "\n",
        "for ii in range(len(angleconstraints)):\n",
        "  # create the augmented dataset\n",
        "  augdata = train_X # we include the original images also in the augmented dataset\n",
        "  auglabel = train_y\n",
        "  for jj in range(naugmentations):\n",
        "    augdata = np.concatenate((augdata, augRotate(train_X, angleconstraints[ii]))) # concatenate the augmented data to the set\n",
        "    auglabel = np.concatenate((auglabel, train_y))  # the labels don't change when we augment\n",
        "\n",
        "  # check the test accuracy\n",
        "  testpred = NN(augdata, auglabel, test_X)\n",
        "  accuracies[ii] = Accuracy(test_y, testpred)\n",
        "  print('Accuracy after rotation augmentation constrained by ',angleconstraints[ii], ' is ', accuracies[ii], flush=True)"
      ],
      "execution_count": null,
      "outputs": [
        {
          "output_type": "stream",
          "name": "stdout",
          "text": [
            "Accuracy after rotation augmentation constrained by  0  is  0.6472\n",
            "Accuracy after rotation augmentation constrained by  10  is  0.6727\n",
            "Accuracy after rotation augmentation constrained by  20  is  0.673\n",
            "Accuracy after rotation augmentation constrained by  30  is  0.6737\n",
            "Accuracy after rotation augmentation constrained by  40  is  0.6731\n",
            "Accuracy after rotation augmentation constrained by  50  is  0.6701\n",
            "Accuracy after rotation augmentation constrained by  60  is  0.6675\n",
            "Accuracy after rotation augmentation constrained by  70  is  0.661\n",
            "Accuracy after rotation augmentation constrained by  80  is  0.6462\n",
            "Accuracy after rotation augmentation constrained by  90  is  0.6469\n"
          ]
        }
      ]
    },
    {
      "cell_type": "markdown",
      "metadata": {
        "id": "2oVDRYP2rxob"
      },
      "source": [
        "Let us see the best value for angle constraint: (Ideally this should be done on validation set, not test set)"
      ]
    },
    {
      "cell_type": "code",
      "metadata": {
        "id": "LqthJa_pmMHz",
        "colab": {
          "base_uri": "https://localhost:8080/",
          "height": 313
        },
        "outputId": "54746b9d-23b9-4aec-fd7f-1dade885e672"
      },
      "source": [
        "fig = plt.figure()\n",
        "ax = fig.add_axes([0.1, 0.1, 0.8, 0.8]) # main axes\n",
        "# plot the variation of accuracy\n",
        "ax.plot(angleconstraints, accuracies)\n",
        "ax.set_xlabel('angle')\n",
        "ax.set_ylabel('accuracy')\n",
        "# plot the maximum accuracy\n",
        "maxind = np.argmax(accuracies)\n",
        "plt.scatter(angleconstraints[maxind], accuracies[maxind], c='red')"
      ],
      "execution_count": null,
      "outputs": [
        {
          "output_type": "execute_result",
          "data": {
            "text/plain": [
              "<matplotlib.collections.PathCollection at 0x7fecbf107c10>"
            ]
          },
          "metadata": {},
          "execution_count": 10
        },
        {
          "output_type": "display_data",
          "data": {
            "image/png": "[encoded data removed]",
            "text/plain": [
              "<Figure size 432x288 with 1 Axes>"
            ]
          },
          "metadata": {
            "needs_background": "light"
          }
        }
      ]
    },
    {
      "cell_type": "markdown",
      "metadata": {
        "id": "eJ8YuVfCuGTj"
      },
      "source": [
        "Let us try one more augmentation: shear. Here is what this looks like:"
      ]
    },
    {
      "cell_type": "code",
      "metadata": {
        "id": "pMiw46NLwssK"
      },
      "source": [
        "def shear(sample, amount):\n",
        "  tform = AffineTransform(shear = amount) # create the shear transform\n",
        "  img = warp(sample, tform) # apply the shear\n",
        "  # this makes the digit off-center. Since all the images in the test set are centralized, we will do the same here\n",
        "  col = img.sum(0).nonzero()[0]\n",
        "  row = img.sum(1).nonzero()[0]\n",
        "  if len(col)>0 and len(row)>0:\n",
        "    xshift = int(sample.shape[0]/2 - (row[0]+row[-1])/2)\n",
        "    yshift = int(sample.shape[1]/2 - (col[0]+col[-1])/2)\n",
        "    img = np.roll(img, (xshift, yshift),(0,1))\n",
        "  return img"
      ],
      "execution_count": null,
      "outputs": []
    },
    {
      "cell_type": "code",
      "metadata": {
        "id": "4_u_EYpmnABK",
        "colab": {
          "base_uri": "https://localhost:8080/",
          "height": 530
        },
        "outputId": "5bf202e6-110f-424c-e23d-008c4870eac2"
      },
      "source": [
        "sample = train_X[2]\n",
        "plt.imshow(sample, cmap='gray')\n",
        "plt.show()\n",
        "\n",
        "# apply shear\n",
        "plt.imshow(shear(sample, 0.4), cmap='gray')"
      ],
      "execution_count": null,
      "outputs": [
        {
          "output_type": "display_data",
          "data": {
            "image/png": "[encoded data removed]",
            "text/plain": [
              "<Figure size 432x288 with 1 Axes>"
            ]
          },
          "metadata": {
            "needs_background": "light"
          }
        },
        {
          "output_type": "execute_result",
          "data": {
            "text/plain": [
              "<matplotlib.image.AxesImage at 0x7fecbf04cc50>"
            ]
          },
          "metadata": {},
          "execution_count": 12
        },
        {
          "output_type": "display_data",
          "data": {
            "image/png": "[encoded data removed]",
            "text/plain": [
              "<Figure size 432x288 with 1 Axes>"
            ]
          },
          "metadata": {
            "needs_background": "light"
          }
        }
      ]
    },
    {
      "cell_type": "markdown",
      "metadata": {
        "id": "lGnWMoyM2pK4"
      },
      "source": [
        "Create an augmentation function which applies a random shear according to the constraint we provide:"
      ]
    },
    {
      "cell_type": "code",
      "metadata": {
        "id": "-qLDJyGytwP5"
      },
      "source": [
        "def augShear(sample, shearconstraint):\n",
        "  if shearconstraint==0:\n",
        "    return sample\n",
        "  if len(sample.shape)==2:\n",
        "    sample = np.expand_dims(sample, 0)  # make sure the sample is 3 dimensional\n",
        "  amt = rng.random(len(sample)) # generate random numbers for shear\n",
        "  amt = (amt-0.5)*shearconstraint # make the random shear constrained\n",
        "  nsample = sample.copy() # preallocate the augmented array to make it faster\n",
        "  for ii in range(len(sample)):\n",
        "    nsample[ii] = shear(sample[ii], amt[ii])\n",
        "  return np.squeeze(nsample) # take care if the input had only one sample."
      ],
      "execution_count": null,
      "outputs": []
    },
    {
      "cell_type": "markdown",
      "metadata": {
        "id": "s6lQcWW93suJ"
      },
      "source": [
        "Let us do a grid search to find the best shear constraint."
      ]
    },
    {
      "cell_type": "code",
      "metadata": {
        "id": "l_wrqPkrzBb_",
        "colab": {
          "base_uri": "https://localhost:8080/"
        },
        "outputId": "e3b7e276-9dd2-4734-fd30-c86b5fa3a5a7"
      },
      "source": [
        "shearconstraints = [0, 0.2,0.4,0.6,0.8,1.0,1.2,1.4,1.6,1.8,2.0] # the values we want to test\n",
        "accuracies = np.zeros(len(shearconstraints), dtype=np.float) # we will save the values here\n",
        "\n",
        "for ii in range(len(shearconstraints)):\n",
        "  # create the augmented dataset\n",
        "  augdata = train_X # we include the original images also in the augmented dataset\n",
        "  auglabel = train_y\n",
        "  for jj in range(naugmentations):\n",
        "    augdata = np.concatenate((augdata, augShear(train_X, shearconstraints[ii]))) # concatenate the augmented data to the set\n",
        "    auglabel = np.concatenate((auglabel, train_y))  # the labels don't change when we augment\n",
        "\n",
        "  # check the test accuracy\n",
        "  testpred = NN(augdata, auglabel, test_X)\n",
        "  accuracies[ii] = Accuracy(test_y, testpred)\n",
        "  print('Accuracy after shear augmentation constrained by ',shearconstraints[ii], ' is ', accuracies[ii], flush=True)"
      ],
      "execution_count": null,
      "outputs": [
        {
          "output_type": "stream",
          "name": "stdout",
          "text": [
            "Accuracy after shear augmentation constrained by  0  is  0.6472\n",
            "Accuracy after shear augmentation constrained by  0.2  is  0.6147\n",
            "Accuracy after shear augmentation constrained by  0.4  is  0.632\n",
            "Accuracy after shear augmentation constrained by  0.6  is  0.6351\n",
            "Accuracy after shear augmentation constrained by  0.8  is  0.6636\n",
            "Accuracy after shear augmentation constrained by  1.0  is  0.6652\n",
            "Accuracy after shear augmentation constrained by  1.2  is  0.6495\n",
            "Accuracy after shear augmentation constrained by  1.4  is  0.6181\n",
            "Accuracy after shear augmentation constrained by  1.6  is  0.6323\n",
            "Accuracy after shear augmentation constrained by  1.8  is  0.6432\n",
            "Accuracy after shear augmentation constrained by  2.0  is  0.6277\n"
          ]
        }
      ]
    },
    {
      "cell_type": "code",
      "metadata": {
        "id": "EKaH-YR-zVnA",
        "colab": {
          "base_uri": "https://localhost:8080/",
          "height": 309
        },
        "outputId": "7d632ae8-2355-4ba8-fada-2bf88251fbbf"
      },
      "source": [
        "fig = plt.figure()\n",
        "ax = fig.add_axes([0.1, 0.1, 0.8, 0.8]) # main axes\n",
        "# plot the variation of accuracy\n",
        "ax.plot(shearconstraints, accuracies)\n",
        "ax.set_xlabel('angle')\n",
        "ax.set_ylabel('accuracy')\n",
        "# plot the maximum accuracy\n",
        "maxind = np.argmax(accuracies)\n",
        "plt.scatter(shearconstraints[maxind], accuracies[maxind], c='red')"
      ],
      "execution_count": null,
      "outputs": [
        {
          "output_type": "execute_result",
          "data": {
            "text/plain": [
              "<matplotlib.collections.PathCollection at 0x7fecbefe7ed0>"
            ]
          },
          "metadata": {},
          "execution_count": 15
        },
        {
          "output_type": "display_data",
          "data": {
            "image/png": "[encoded data removed]",
            "text/plain": [
              "<Figure size 432x288 with 1 Axes>"
            ]
          },
          "metadata": {
            "needs_background": "light"
          }
        }
      ]
    },
    {
      "cell_type": "markdown",
      "metadata": {
        "id": "ccfdbRcQ7Zgg"
      },
      "source": [
        "We can do multiple augmentations at the same time. Here is a function to do both shear and rotation to the sample. In this case, we will have two hyperparameters. "
      ]
    },
    {
      "cell_type": "code",
      "metadata": {
        "id": "sh8S_Pxa0XCv"
      },
      "source": [
        "def augRotateShear(sample, angleconstraint, shearconstraint):\n",
        "  if len(sample.shape)==2:\n",
        "    sample = np.expand_dims(sample, 0)  # make sure the sample is 3 dimensional\n",
        "  amt = rng.random(len(sample)) # generate random numbers for shear\n",
        "  amt = (amt-0.5)*shearconstraint # make the random shear constrained\n",
        "  angle = rng.random(len(sample)) # generate random numbers for angles\n",
        "  angle = (angle-0.5)*angleconstraint # make the random angle constrained\n",
        "  nsample = sample.copy() # preallocate the augmented array to make it faster\n",
        "  for ii in range(len(sample)):\n",
        "    nsample[ii] = rotate(shear(sample[ii], amt[ii]), angle[ii]) # first apply shear, then rotate\n",
        "  return np.squeeze(nsample) # take care if the input had only one sample."
      ],
      "execution_count": null,
      "outputs": []
    },
    {
      "cell_type": "markdown",
      "metadata": {
        "id": "OGKyjjNx-NQ4"
      },
      "source": [
        "Since we have two hyperparameters, we have to do the grid search on a 2 dimensional matrix. We can use our previous experience to inform where to search for the best hyperparameters. "
      ]
    },
    {
      "cell_type": "code",
      "metadata": {
        "id": "TJC45WRg0pOP",
        "colab": {
          "base_uri": "https://localhost:8080/"
        },
        "outputId": "7c777f8b-2f92-4689-cf0b-c680d23ee1b7"
      },
      "source": [
        "shearconstraints = [0, 0.2,0.4,0.6,0.8,1.0,1.2,1.4,1.6] # the values we want to test\n",
        "angleconstraints = [0,10,20,30,40,50,60] # the values we want to test\n",
        "hyp = cartesian((shearconstraints, angleconstraints)) # cartesian product of both (this is for grid search)\n",
        "\n",
        "accuracies = np.zeros(len(hyp), dtype=np.float) # we will save the values here\n",
        "\n",
        "for ii in range(len(hyp)):\n",
        "  # create the augmented dataset\n",
        "  augdata = train_X # we include the original images also in the augmented dataset\n",
        "  auglabel = train_y\n",
        "  for jj in range(naugmentations):\n",
        "    augdata = np.concatenate((augdata, augRotateShear(train_X, hyp[ii][1], hyp[ii][0]))) # concatenate the augmented data to the set\n",
        "    auglabel = np.concatenate((auglabel, train_y))  # the labels don't change when we augment\n",
        "\n",
        "  # check the test accuracy\n",
        "  testpred = NN(augdata, auglabel, test_X)\n",
        "  accuracies[ii] = Accuracy(test_y, testpred)\n",
        "  print('Accuracy after augmentation shear:',hyp[ii][0], 'angle:',hyp[ii][1], ' is ', accuracies[ii], flush=True)"
      ],
      "execution_count": null,
      "outputs": [
        {
          "output_type": "stream",
          "name": "stdout",
          "text": [
            "Accuracy after augmentation shear: 0.0 angle: 0.0  is  0.6332\n",
            "Accuracy after augmentation shear: 0.0 angle: 10.0  is  0.64\n",
            "Accuracy after augmentation shear: 0.0 angle: 20.0  is  0.631\n",
            "Accuracy after augmentation shear: 0.0 angle: 30.0  is  0.6301\n",
            "Accuracy after augmentation shear: 0.0 angle: 40.0  is  0.6329\n",
            "Accuracy after augmentation shear: 0.0 angle: 50.0  is  0.6319\n",
            "Accuracy after augmentation shear: 0.0 angle: 60.0  is  0.6252\n",
            "Accuracy after augmentation shear: 0.2 angle: 0.0  is  0.6123\n",
            "Accuracy after augmentation shear: 0.2 angle: 10.0  is  0.6196\n",
            "Accuracy after augmentation shear: 0.2 angle: 20.0  is  0.6063\n",
            "Accuracy after augmentation shear: 0.2 angle: 30.0  is  0.599\n",
            "Accuracy after augmentation shear: 0.2 angle: 40.0  is  0.6032\n",
            "Accuracy after augmentation shear: 0.2 angle: 50.0  is  0.603\n",
            "Accuracy after augmentation shear: 0.2 angle: 60.0  is  0.5876\n",
            "Accuracy after augmentation shear: 0.4 angle: 0.0  is  0.6295\n",
            "Accuracy after augmentation shear: 0.4 angle: 10.0  is  0.6212\n",
            "Accuracy after augmentation shear: 0.4 angle: 20.0  is  0.6143\n",
            "Accuracy after augmentation shear: 0.4 angle: 30.0  is  0.6155\n",
            "Accuracy after augmentation shear: 0.4 angle: 40.0  is  0.6078\n",
            "Accuracy after augmentation shear: 0.4 angle: 50.0  is  0.6027\n",
            "Accuracy after augmentation shear: 0.4 angle: 60.0  is  0.6094\n",
            "Accuracy after augmentation shear: 0.6 angle: 0.0  is  0.6377\n",
            "Accuracy after augmentation shear: 0.6 angle: 10.0  is  0.6298\n",
            "Accuracy after augmentation shear: 0.6 angle: 20.0  is  0.6195\n",
            "Accuracy after augmentation shear: 0.6 angle: 30.0  is  0.6387\n",
            "Accuracy after augmentation shear: 0.6 angle: 40.0  is  0.6383\n",
            "Accuracy after augmentation shear: 0.6 angle: 50.0  is  0.6091\n",
            "Accuracy after augmentation shear: 0.6 angle: 60.0  is  0.6184\n",
            "Accuracy after augmentation shear: 0.8 angle: 0.0  is  0.6592\n",
            "Accuracy after augmentation shear: 0.8 angle: 10.0  is  0.6359\n",
            "Accuracy after augmentation shear: 0.8 angle: 20.0  is  0.6434\n",
            "Accuracy after augmentation shear: 0.8 angle: 30.0  is  0.6329\n",
            "Accuracy after augmentation shear: 0.8 angle: 40.0  is  0.6112\n",
            "Accuracy after augmentation shear: 0.8 angle: 50.0  is  0.6141\n",
            "Accuracy after augmentation shear: 0.8 angle: 60.0  is  0.5969\n",
            "Accuracy after augmentation shear: 1.0 angle: 0.0  is  0.6428\n",
            "Accuracy after augmentation shear: 1.0 angle: 10.0  is  0.6349\n",
            "Accuracy after augmentation shear: 1.0 angle: 20.0  is  0.6486\n",
            "Accuracy after augmentation shear: 1.0 angle: 30.0  is  0.6419\n",
            "Accuracy after augmentation shear: 1.0 angle: 40.0  is  0.6164\n",
            "Accuracy after augmentation shear: 1.0 angle: 50.0  is  0.6393\n",
            "Accuracy after augmentation shear: 1.0 angle: 60.0  is  0.6056\n",
            "Accuracy after augmentation shear: 1.2 angle: 0.0  is  0.6439\n",
            "Accuracy after augmentation shear: 1.2 angle: 10.0  is  0.6199\n",
            "Accuracy after augmentation shear: 1.2 angle: 20.0  is  0.6385\n",
            "Accuracy after augmentation shear: 1.2 angle: 30.0  is  0.6204\n",
            "Accuracy after augmentation shear: 1.2 angle: 40.0  is  0.6208\n",
            "Accuracy after augmentation shear: 1.2 angle: 50.0  is  0.6359\n",
            "Accuracy after augmentation shear: 1.2 angle: 60.0  is  0.6181\n",
            "Accuracy after augmentation shear: 1.4 angle: 0.0  is  0.6342\n",
            "Accuracy after augmentation shear: 1.4 angle: 10.0  is  0.6142\n",
            "Accuracy after augmentation shear: 1.4 angle: 20.0  is  0.6182\n",
            "Accuracy after augmentation shear: 1.4 angle: 30.0  is  0.615\n",
            "Accuracy after augmentation shear: 1.4 angle: 40.0  is  0.6069\n",
            "Accuracy after augmentation shear: 1.4 angle: 50.0  is  0.6084\n",
            "Accuracy after augmentation shear: 1.4 angle: 60.0  is  0.6045\n",
            "Accuracy after augmentation shear: 1.6 angle: 0.0  is  0.5999\n",
            "Accuracy after augmentation shear: 1.6 angle: 10.0  is  0.6222\n",
            "Accuracy after augmentation shear: 1.6 angle: 20.0  is  0.6225\n",
            "Accuracy after augmentation shear: 1.6 angle: 30.0  is  0.5911\n",
            "Accuracy after augmentation shear: 1.6 angle: 40.0  is  0.603\n",
            "Accuracy after augmentation shear: 1.6 angle: 50.0  is  0.5711\n",
            "Accuracy after augmentation shear: 1.6 angle: 60.0  is  0.5841\n"
          ]
        }
      ]
    },
    {
      "cell_type": "markdown",
      "metadata": {
        "id": "PT6CnvSDEX7a"
      },
      "source": [
        "Let us plot it two dimensionally to see which is the best value for the hyperparameters:"
      ]
    },
    {
      "cell_type": "code",
      "metadata": {
        "id": "jD2i7msI_cLd",
        "colab": {
          "base_uri": "https://localhost:8080/",
          "height": 309
        },
        "outputId": "e73840f7-7ec4-408e-88c3-ccb7cc9801fc"
      },
      "source": [
        "fig = plt.figure()\n",
        "ax = fig.add_axes([0.1, 0.1, 0.8, 0.8]) # main axes\n",
        "im = ax.imshow(accuracies.reshape((len(shearconstraints), len(angleconstraints))), cmap='inferno') \n",
        "ax.set_xlabel('angle')\n",
        "ax.set_ylabel('shear')\n",
        "ax.set_xticks(np.arange(len(angleconstraints)));\n",
        "ax.set_xticklabels(angleconstraints);\n",
        "ax.set_yticks(np.arange(len(shearconstraints)));\n",
        "ax.set_yticklabels(shearconstraints);\n",
        "plt.colorbar(im)"
      ],
      "execution_count": null,
      "outputs": [
        {
          "output_type": "execute_result",
          "data": {
            "text/plain": [
              "<matplotlib.colorbar.Colorbar at 0x7fecbef23050>"
            ]
          },
          "metadata": {},
          "execution_count": 18
        },
        {
          "output_type": "display_data",
          "data": {
            "image/png": "[encoded data removed]",
            "text/plain": [
              "<Figure size 432x288 with 2 Axes>"
            ]
          },
          "metadata": {
            "needs_background": "light"
          }
        }
      ]
    },
    {
      "cell_type": "markdown",
      "metadata": {
        "id": "OHcZWJiFJDMh"
      },
      "source": [
        "It seems that rotation and shear don't mix! The best accuracy is when rotation is zero."
      ]
    },
    {
      "cell_type": "markdown",
      "metadata": {
        "id": "PAasQo1C3x4A"
      },
      "source": [
        "## Questions\n",
        "Try these questions for better understanding. You may not be able to solve all of them. \n",
        "1. What is the best value for angle constraint and shear constraint you got? How much did the accuracy improve as compared to not using augmentations?\n",
        "2. Can you increase the accuracy by increasing the number of augmentations from each sample?\n",
        "3. Try implementing a few augmentations of your own and experimenting with them. A good reference is <a href=https://www.analyticsvidhya.com/blog/2019/12/image-augmentation-deep-learning-pytorch/>here. </a>\n",
        "4. Try combining various augmentations. What is the highest accuracy you can get? What is the smallest training dataset you can take and still get accuracy above 50%?\n",
        "\n",
        "Whenever you do any experiment, a good practice is to vary the hyperparameters gradually and create a graph of your results, like we did for gridsearch. "
      ]
    },
    {
      "cell_type": "markdown",
      "metadata": {
        "id": "LjMmr3jUnaAf"
      },
      "source": [
        "## Answer for Question 1\n",
        "\n",
        "\n",
        "The best value for angle constraint and shear constraint I got is for *angleconstraint* = 40 and *shear* = 0.00 (restricted to less than 0.4 to avoid any image distortions). \n",
        "\n",
        "Now the baseline accuracy we measured did not have any image augmentations at all. Thus, the dataset size was smaller in size, while **our augmentated dataset was bigger in size**. Also, we know that **train-test split matters**. \n",
        "\n",
        "Thus, to compensate, we will test our accuracy on the augmented dataset, as well as the original dataset, which we will upsample in size, using duplicate entries. We will do this by setting both angleconstraint and shear constraint to 0.00.\n",
        "\n",
        "Therefore, we will compare the accuracies with two datasets, one with image augmentations, and another with just duplicate entries."
      ]
    },
    {
      "cell_type": "code",
      "metadata": {
        "colab": {
          "base_uri": "https://localhost:8080/"
        },
        "id": "1a09r516tViW",
        "outputId": "31a5fafa-c840-454f-e509-316be41680d2"
      },
      "source": [
        "constraints = [[0.00,0.00], [40, 0.00]]\n",
        "test_accuracies = np.zeros(len(constraints), dtype=np.float) # we will save the values here\n",
        "\n",
        "for ii in range(len(constraints)):\n",
        "  # create the augmented dataset\n",
        "  augdata = train_X # we include the original images also in the augmented dataset\n",
        "  auglabel = train_y\n",
        "  for jj in range(naugmentations):\n",
        "    augdata = np.concatenate((augdata, augRotateShear(train_X, constraints[ii][0], constraints[ii][1]))) # concatenate the augmented data to the set\n",
        "    auglabel = np.concatenate((auglabel, train_y))  # the labels don't change when we augment\n",
        "\n",
        "  # check the test accuracy\n",
        "  testpred = NN(augdata, auglabel, test_X)\n",
        "  test_accuracies[ii] = Accuracy(test_y, testpred)\n",
        "print('Accuracy of dataset with duplicate data points is ',test_accuracies[0], flush=True)\n",
        "print('Accuracy of dataset with augmented data points is ',test_accuracies[1], flush=True)"
      ],
      "execution_count": null,
      "outputs": [
        {
          "output_type": "stream",
          "name": "stdout",
          "text": [
            "Accuracy of dataset with duplicate data points is  0.6332\n",
            "Accuracy of dataset with augmented data points is  0.6279\n"
          ]
        }
      ]
    },
    {
      "cell_type": "markdown",
      "metadata": {
        "id": "cqzI0e0A0Z-2"
      },
      "source": [
        "Thus, the accuracy increased by 0.009.\n",
        "\n",
        "---"
      ]
    },
    {
      "cell_type": "markdown",
      "metadata": {
        "id": "LkrNw04cpic0"
      },
      "source": [
        "## Answer for Question 2\n"
      ]
    },
    {
      "cell_type": "code",
      "metadata": {
        "id": "mCzpwluJ46pI",
        "colab": {
          "base_uri": "https://localhost:8080/"
        },
        "outputId": "03bd1d44-37b7-4535-b0e5-7b24d362ceec"
      },
      "source": [
        "final_angle = 40\n",
        "naugmentations = [1, 5, 25, 50, 75, 100]\n",
        "accuracy_list = []\n",
        "\n",
        "for naugmentations_i in naugmentations:\n",
        "  augdata = train_X \n",
        "  auglabel = train_y\n",
        "\n",
        "  for jj in range(naugmentations_i):\n",
        "    augdata = np.concatenate((augdata, augRotate(train_X, final_angle)))\n",
        "    auglabel = np.concatenate((auglabel, train_y))  \n",
        "\n",
        "  # check the test accuracy\n",
        "  testpred = NN(augdata, auglabel, test_X)\n",
        "  final_angle_accuracy = Accuracy(test_y, testpred)\n",
        "  accuracy_list.append(final_angle_accuracy)\n",
        "  print('Accuracy after rotation augmentation constrained by ', final_angle , 'with ', naugmentations_i, 'augmentation(s) per sample is ', final_angle_accuracy, flush=True)"
      ],
      "execution_count": null,
      "outputs": [
        {
          "output_type": "stream",
          "name": "stdout",
          "text": [
            "Accuracy after rotation augmentation constrained by  40 with  1 augmentation(s) per sample is  0.6332\n",
            "Accuracy after rotation augmentation constrained by  40 with  5 augmentation(s) per sample is  0.6684\n",
            "Accuracy after rotation augmentation constrained by  40 with  25 augmentation(s) per sample is  0.6844\n",
            "Accuracy after rotation augmentation constrained by  40 with  50 augmentation(s) per sample is  0.6847\n",
            "Accuracy after rotation augmentation constrained by  40 with  75 augmentation(s) per sample is  0.6865\n",
            "Accuracy after rotation augmentation constrained by  40 with  100 augmentation(s) per sample is  0.6853\n"
          ]
        }
      ]
    },
    {
      "cell_type": "code",
      "metadata": {
        "colab": {
          "base_uri": "https://localhost:8080/",
          "height": 606
        },
        "id": "24aMhHQFrcCR",
        "outputId": "03093b8c-cb09-4c4b-ed9e-0ff40d3505ff"
      },
      "source": [
        "plt.figure(figsize = (15,10))\n",
        "plt.plot(naugmentations, accuracy_list, color = 'blue')\n",
        "plt.xlabel('Number of Augmentations per sample')\n",
        "plt.ylabel('Accuracy')\n",
        "plt.show()"
      ],
      "execution_count": null,
      "outputs": [
        {
          "output_type": "display_data",
          "data": {
            "image/png": "[encoded data removed]",
            "text/plain": [
              "<Figure size 1080x720 with 1 Axes>"
            ]
          },
          "metadata": {
            "needs_background": "light"
          }
        }
      ]
    },
    {
      "cell_type": "markdown",
      "metadata": {
        "id": "Y-mNm_Vz0kuG"
      },
      "source": [
        "Clearly, as we increased the number of augmented images from each sample, the accuracy improved. However, it saturates at within 25 augmentations itself.\n",
        "\n",
        "---\n",
        "\n",
        "## Answer for Question 3\n"
      ]
    },
    {
      "cell_type": "markdown",
      "metadata": {
        "id": "F-EDW0HfDYGh"
      },
      "source": [
        "The new augmentations that we will try out are:\n",
        "\n",
        "\n",
        "1. Horizontal Shift\n",
        "2. Vertical Shift\n",
        "3. Random Shift\n",
        "4. Random Noise \n",
        "\n",
        "We will not try flipping because flipping can change the meaning of the digit itself.\n",
        "\n",
        "We will also not try blurring, because blurring for digits just increase the thickness of the lines, that is basically increasing the dataset.\n",
        "\n",
        "In the next code block, we will define all the functions we will use:"
      ]
    },
    {
      "cell_type": "code",
      "metadata": {
        "id": "vBKFD6ByDVPj"
      },
      "source": [
        "from skimage.transform import warp\n",
        "from skimage.util import random_noise\n",
        "\n",
        "class Shift:\n",
        "  \n",
        "  def __init__(self, amt, amt2 = None):\n",
        "    self.amt = amt\n",
        "\n",
        "    if amt2 == None:\n",
        "      self.amt2 = self.amt\n",
        "    else:\n",
        "      self.amt2 = amt2\n",
        "      \n",
        "\n",
        "  def shift_vertical(self, xy, oamt = None):\n",
        "    if oamt == None:\n",
        "      xy[:, 1] += self.amt\n",
        "    else:\n",
        "      xy[:, 1] += oamt\n",
        "      \n",
        "    return xy\n",
        "\n",
        "  def shift_horizontal(self, xy, oamt = None):\n",
        "    if oamt == None:\n",
        "      xy[:, 0] += self.amt\n",
        "    else:\n",
        "      xy[:, 0] += oamt\n",
        "    return xy\n",
        "\n",
        "  def general_shift(self, xy):\n",
        "    # first parameter is horizontal, then is vertical\n",
        "    return self.shift_vertical(self.shift_horizontal(xy, self.amt), self.amt2)\n",
        "\n",
        "def augVshift(sample, shiftconstraint):\n",
        "  if shiftconstraint==0:\n",
        "    return sample\n",
        "  if len(sample.shape)==2:\n",
        "    sample = np.expand_dims(sample, 0)  # make sure the sample is 3 dimensional\n",
        "  shift = rng.random(len(sample)) # generate random numbers for shifts\n",
        "  shift = (shift-0.5)*shiftconstraint # make the random shift constrained\n",
        "  # here shift - 0.5 varies from -0.5 to +0.5. Multiplying by contraint does the job\n",
        "  nsample = sample.copy() # preallocate the augmented array to make it faster\n",
        "  shift_object = Shift(shiftconstraint)\n",
        "  for ii in range(len(sample)):\n",
        "    shift_object.amt = shift[ii]\n",
        "    nsample[ii] = warp(sample[ii], shift_object.shift_vertical)\n",
        "  return np.squeeze(nsample) # take care if the input had only one sample. \n",
        "  # [[a]] - > [a], or [[a], [b]] ->   [[a], [b]] (depending on axis of squeezing, default is max axis)\n",
        "\n",
        "def augHshift(sample, shiftconstraint):\n",
        "  if shiftconstraint==0:\n",
        "    return sample\n",
        "  if len(sample.shape)==2:\n",
        "    sample = np.expand_dims(sample, 0)  # make sure the sample is 3 dimensional\n",
        "  shift = rng.random(len(sample)) # generate random numbers for shifts\n",
        "  shift = (shift-0.5)*shiftconstraint # make the random shift constrained\n",
        "  # here shift - 0.5 varies from -0.5 to +0.5. Multiplying by contraint does the job\n",
        "  nsample = sample.copy() # preallocate the augmented array to make it faster\n",
        "  shift_object = Shift(shiftconstraint)\n",
        "  for ii in range(len(sample)):\n",
        "    shift_object.amt = shift[ii]\n",
        "    nsample[ii] = warp(sample[ii], shift_object.shift_horizontal)\n",
        "  return np.squeeze(nsample) # take care if the input had only one sample. \n",
        "  # [[a]] - > [a], or [[a], [b]] ->   [[a], [b]] (depending on axis of squeezing, default is max axis)\n",
        "\n",
        "def augRshift(sample, shiftconstraint):\n",
        "  if shiftconstraint==0:\n",
        "    return sample\n",
        "  if len(sample.shape)==2:\n",
        "    sample = np.expand_dims(sample, 0)  # make sure the sample is 3 dimensional\n",
        "  shift1 = rng.random(len(sample)) # generate random numbers for shifts\n",
        "  shift1 = (shift1-0.5)*shiftconstraint # make the random shift constrained\n",
        "  shift2 = rng.random(len(sample)) # generate random numbers for shifts\n",
        "  shift2 = (shift1-0.5)*shiftconstraint # make the random shift constrained\n",
        "  # here shift - 0.5 varies from -0.5 to +0.5. Multiplying by contraint does the job\n",
        "  nsample = sample.copy() # preallocate the augmented array to make it faster\n",
        "  shift_object = Shift(shiftconstraint, shiftconstraint)\n",
        "  for ii in range(len(sample)):\n",
        "    shift_object.amt = shift1[ii]\n",
        "    shift_object.amt2 = shift2[ii]\n",
        "    nsample[ii] = warp(sample[ii], shift_object.general_shift)\n",
        "  return np.squeeze(nsample) # take care if the input had only one sample. \n",
        "  # [[a]] - > [a], or [[a], [b]] ->   [[a], [b]] (depending on axis of squeezing, default is max axis)\n",
        "\n",
        "def augNoise(sample, noise_paramconstraint):\n",
        "  if noise_paramconstraint==0:\n",
        "    return sample\n",
        "  if len(sample.shape)==2:\n",
        "    sample = np.expand_dims(sample, 0)  # make sure the sample is 3 dimensional\n",
        "  noise_param = rng.random(len(sample)) # generate random numbers for noise_params\n",
        "  noise_param = (noise_param-0.5)*noise_paramconstraint # make the random noise_param constrained\n",
        "  # here noise_param - 0.5 varies from -0.5 to +0.5. Multiplying by contraint does the job\n",
        "  nsample = sample.copy() # preallocate the augmented array to make it faster\n",
        "  for ii in range(len(sample)):\n",
        "    nsample[ii] = random_noise(sample[ii], mode='gaussian', mean = noise_param[ii])\n",
        "  return np.squeeze(nsample) # take care if the input had only one sample. \n",
        "  # [[a]] - > [a], or [[a], [b]] ->   [[a], [b]] (depending on axis of squeezing, default is max axis)\n",
        "\n",
        "def augRotateVshift(sample, angleconstraint, vshiftconstraint):\n",
        "  if len(sample.shape)==2:\n",
        "    sample = np.expand_dims(sample, 0)  # make sure the sample is 3 dimensional\n",
        "  amt = rng.random(len(sample)) # generate random numbers for vshift\n",
        "  amt = (amt-0.5)*vshiftconstraint # make the random vshift constrained\n",
        "  angle = rng.random(len(sample)) # generate random numbers for angles\n",
        "  angle = (angle-0.5)*angleconstraint # make the random angle constrained\n",
        "  nsample = sample.copy() # preallocate the augmented array to make it faster\n",
        "  \n",
        "  shift_object = Shift(vshiftconstraint)\n",
        "  for ii in range(len(sample)):\n",
        "    shift_object.amt = amt[ii]\n",
        "    nsample[ii] = rotate(warp(sample[ii], shift_object.shift_vertical), angle[ii]) # first apply vshift, then rotate\n",
        "  return np.squeeze(nsample) # take care if the input had only one sample."
      ],
      "execution_count": null,
      "outputs": []
    },
    {
      "cell_type": "markdown",
      "metadata": {
        "id": "WX5pEBnA-BZX"
      },
      "source": [
        "Here are some visualizations of the augmentations..."
      ]
    },
    {
      "cell_type": "code",
      "metadata": {
        "colab": {
          "base_uri": "https://localhost:8080/",
          "height": 530
        },
        "id": "pQsl4HGj0Gex",
        "outputId": "4cb563de-df37-4937-e8c1-8008fd210db6"
      },
      "source": [
        "# shifting down by setting amt to -5 and passing vertical shifting function\n",
        "plt.imshow(train_X[2], cmap='gray')\n",
        "plt.show()\n",
        "shift_object = Shift(-5)\n",
        "plt.imshow(warp(train_X[2], shift_object.shift_vertical), cmap='gray')"
      ],
      "execution_count": null,
      "outputs": [
        {
          "output_type": "display_data",
          "data": {
            "image/png": "[encoded data removed]",
            "text/plain": [
              "<Figure size 432x288 with 1 Axes>"
            ]
          },
          "metadata": {
            "needs_background": "light"
          }
        },
        {
          "output_type": "execute_result",
          "data": {
            "text/plain": [
              "<matplotlib.image.AxesImage at 0x7fecb9afae10>"
            ]
          },
          "metadata": {},
          "execution_count": 85
        },
        {
          "output_type": "display_data",
          "data": {
            "image/png": "[encoded data removed]",
            "text/plain": [
              "<Figure size 432x288 with 1 Axes>"
            ]
          },
          "metadata": {
            "needs_background": "light"
          }
        }
      ]
    },
    {
      "cell_type": "code",
      "metadata": {
        "colab": {
          "base_uri": "https://localhost:8080/",
          "height": 530
        },
        "id": "xjDLFE9e4_QN",
        "outputId": "ba84bc83-62d9-47ff-bb9a-f6e7b08693eb"
      },
      "source": [
        "# shifting up by setting amt to 5 and passing vertical shifting function\n",
        "plt.imshow(train_X[2], cmap='gray')\n",
        "plt.show()\n",
        "shift_object.amt = 5\n",
        "plt.imshow(warp(train_X[2], shift_object.shift_vertical), cmap='gray')"
      ],
      "execution_count": null,
      "outputs": [
        {
          "output_type": "display_data",
          "data": {
            "image/png": "[encoded data removed]",
            "text/plain": [
              "<Figure size 432x288 with 1 Axes>"
            ]
          },
          "metadata": {
            "needs_background": "light"
          }
        },
        {
          "output_type": "execute_result",
          "data": {
            "text/plain": [
              "<matplotlib.image.AxesImage at 0x7fecb99e99d0>"
            ]
          },
          "metadata": {},
          "execution_count": 86
        },
        {
          "output_type": "display_data",
          "data": {
            "image/png": "[encoded data removed]",
            "text/plain": [
              "<Figure size 432x288 with 1 Axes>"
            ]
          },
          "metadata": {
            "needs_background": "light"
          }
        }
      ]
    },
    {
      "cell_type": "code",
      "metadata": {
        "colab": {
          "base_uri": "https://localhost:8080/",
          "height": 530
        },
        "id": "3daoQBOe4_9k",
        "outputId": "9dff3503-8a22-425b-abb9-2ab1153fe8c4"
      },
      "source": [
        "# shifting right by setting amt to -5 and passing horizontal shifting function\n",
        "plt.imshow(train_X[2], cmap='gray')\n",
        "plt.show()\n",
        "shift_object.amt = -5\n",
        "plt.imshow(warp(train_X[2], shift_object.shift_horizontal), cmap='gray')"
      ],
      "execution_count": null,
      "outputs": [
        {
          "output_type": "display_data",
          "data": {
            "image/png": "[encoded data removed]",
            "text/plain": [
              "<Figure size 432x288 with 1 Axes>"
            ]
          },
          "metadata": {
            "needs_background": "light"
          }
        },
        {
          "output_type": "execute_result",
          "data": {
            "text/plain": [
              "<matplotlib.image.AxesImage at 0x7fecb9930150>"
            ]
          },
          "metadata": {},
          "execution_count": 87
        },
        {
          "output_type": "display_data",
          "data": {
            "image/png": "[encoded data removed]",
            "text/plain": [
              "<Figure size 432x288 with 1 Axes>"
            ]
          },
          "metadata": {
            "needs_background": "light"
          }
        }
      ]
    },
    {
      "cell_type": "code",
      "metadata": {
        "colab": {
          "base_uri": "https://localhost:8080/",
          "height": 530
        },
        "id": "Br2_jz0l5AdB",
        "outputId": "3366d8e1-05a2-46fb-faf5-ddddf2fb9b8a"
      },
      "source": [
        "# shifting left by setting amt to 5 and passing horizontal shifting function\n",
        "plt.imshow(train_X[2], cmap='gray')\n",
        "plt.show()\n",
        "shift_object.amt = 5\n",
        "plt.imshow(warp(train_X[2], shift_object.shift_horizontal), cmap='gray')"
      ],
      "execution_count": null,
      "outputs": [
        {
          "output_type": "display_data",
          "data": {
            "image/png": "[encoded data removed]",
            "text/plain": [
              "<Figure size 432x288 with 1 Axes>"
            ]
          },
          "metadata": {
            "needs_background": "light"
          }
        },
        {
          "output_type": "execute_result",
          "data": {
            "text/plain": [
              "<matplotlib.image.AxesImage at 0x7fecb986cbd0>"
            ]
          },
          "metadata": {},
          "execution_count": 88
        },
        {
          "output_type": "display_data",
          "data": {
            "image/png": "[encoded data removed]",
            "text/plain": [
              "<Figure size 432x288 with 1 Axes>"
            ]
          },
          "metadata": {
            "needs_background": "light"
          }
        }
      ]
    },
    {
      "cell_type": "code",
      "metadata": {
        "colab": {
          "base_uri": "https://localhost:8080/",
          "height": 530
        },
        "id": "NvigmdIu7fyR",
        "outputId": "4881237b-70a1-440b-8680-c14cba36078a"
      },
      "source": [
        "# shifting left by setting amt to 5 and passing horizontal shifting function\n",
        "plt.imshow(train_X[2], cmap='gray')\n",
        "plt.show()\n",
        "random_shift = Shift(5.25, -5.25)\n",
        "plt.imshow(warp(train_X[2], random_shift.general_shift), cmap='gray')"
      ],
      "execution_count": null,
      "outputs": [
        {
          "output_type": "display_data",
          "data": {
            "image/png": "[encoded data removed]",
            "text/plain": [
              "<Figure size 432x288 with 1 Axes>"
            ]
          },
          "metadata": {
            "needs_background": "light"
          }
        },
        {
          "output_type": "execute_result",
          "data": {
            "text/plain": [
              "<matplotlib.image.AxesImage at 0x7fecb9984a10>"
            ]
          },
          "metadata": {},
          "execution_count": 89
        },
        {
          "output_type": "display_data",
          "data": {
            "image/png": "[encoded data removed]",
            "text/plain": [
              "<Figure size 432x288 with 1 Axes>"
            ]
          },
          "metadata": {
            "needs_background": "light"
          }
        }
      ]
    },
    {
      "cell_type": "code",
      "metadata": {
        "colab": {
          "base_uri": "https://localhost:8080/",
          "height": 530
        },
        "id": "D2sABnKM0nlV",
        "outputId": "1878dca7-6b32-4e57-94c4-6b3de5d5be62"
      },
      "source": [
        "# adding random gaussian noise\n",
        "noise_img = random_noise(train_X[2], mode='gaussian')\n",
        "plt.imshow(train_X[2], cmap='gray')\n",
        "plt.show()\n",
        "plt.imshow(noise_img, cmap='gray')"
      ],
      "execution_count": null,
      "outputs": [
        {
          "output_type": "display_data",
          "data": {
            "image/png": "[encoded data removed]",
            "text/plain": [
              "<Figure size 432x288 with 1 Axes>"
            ]
          },
          "metadata": {
            "needs_background": "light"
          }
        },
        {
          "output_type": "execute_result",
          "data": {
            "text/plain": [
              "<matplotlib.image.AxesImage at 0x7fecba594410>"
            ]
          },
          "metadata": {},
          "execution_count": 102
        },
        {
          "output_type": "display_data",
          "data": {
            "image/png": "[encoded data removed]",
            "text/plain": [
              "<Figure size 432x288 with 1 Axes>"
            ]
          },
          "metadata": {
            "needs_background": "light"
          }
        }
      ]
    },
    {
      "cell_type": "code",
      "metadata": {
        "colab": {
          "base_uri": "https://localhost:8080/"
        },
        "id": "s0YzB8924vUZ",
        "outputId": "ddb91355-077e-4d49-c6a9-f87aa58b2adb"
      },
      "source": [
        "Vshiftconstraints = [0, 2, 4, 8, 16] # the values we want to test\n",
        "accuracies = np.zeros(len(Vshiftconstraints), dtype=np.float) # we will save the values here\n",
        "naugmentations = 5\n",
        "\n",
        "for ii in range(len(Vshiftconstraints)):\n",
        "  # create the augmented dataset\n",
        "  augdata = train_X # we include the original images also in the augmented dataset\n",
        "  auglabel = train_y\n",
        "  for jj in range(naugmentations):\n",
        "    augdata = np.concatenate((augdata, augVshift(train_X, Vshiftconstraints[ii]))) # concatenate the augmented data to the set\n",
        "    auglabel = np.concatenate((auglabel, train_y))  # the labels don't change when we augment\n",
        "\n",
        "  # check the test accuracy\n",
        "  testpred = NN(augdata, auglabel, test_X)\n",
        "  accuracies[ii] = Accuracy(test_y, testpred)\n",
        "  print('Accuracy after Vshift augmentation constrained by ',Vshiftconstraints[ii], ' is ', accuracies[ii], flush=True)"
      ],
      "execution_count": null,
      "outputs": [
        {
          "output_type": "stream",
          "name": "stdout",
          "text": [
            "Accuracy after Vshift augmentation constrained by  0  is  0.6472\n",
            "Accuracy after Vshift augmentation constrained by  2  is  0.6731\n",
            "Accuracy after Vshift augmentation constrained by  4  is  0.6675\n",
            "Accuracy after Vshift augmentation constrained by  8  is  0.6297\n",
            "Accuracy after Vshift augmentation constrained by  16  is  0.6053\n"
          ]
        }
      ]
    },
    {
      "cell_type": "code",
      "metadata": {
        "colab": {
          "base_uri": "https://localhost:8080/"
        },
        "id": "1H2SclQQ_lkH",
        "outputId": "b4f80e7f-ccc6-4ddc-e89f-e5565776443f"
      },
      "source": [
        "Hshiftconstraints = [0, 2, 4, 8, 16] # the values we want to test\n",
        "accuracies = np.zeros(len(Hshiftconstraints), dtype=np.float) # we will save the values here\n",
        "naugmentations = 5\n",
        "\n",
        "for ii in range(len(Hshiftconstraints)):\n",
        "  # create the augmented dataset\n",
        "  augdata = train_X # we include the original images also in the augmented dataset\n",
        "  auglabel = train_y\n",
        "  for jj in range(naugmentations):\n",
        "    augdata = np.concatenate((augdata, augHshift(train_X, Hshiftconstraints[ii]))) # concatenate the augmented data to the set\n",
        "    auglabel = np.concatenate((auglabel, train_y))  # the labels don't change when we augment\n",
        "\n",
        "  # check the test accuracy\n",
        "  testpred = NN(augdata, auglabel, test_X)\n",
        "  accuracies[ii] = Accuracy(test_y, testpred)\n",
        "  print('Accuracy after Hshift augmentation constrained by ',Hshiftconstraints[ii], ' is ', accuracies[ii], flush=True)"
      ],
      "execution_count": null,
      "outputs": [
        {
          "output_type": "stream",
          "name": "stdout",
          "text": [
            "Accuracy after Hshift augmentation constrained by  0  is  0.6472\n",
            "Accuracy after Hshift augmentation constrained by  2  is  0.6603\n",
            "Accuracy after Hshift augmentation constrained by  4  is  0.6528\n",
            "Accuracy after Hshift augmentation constrained by  8  is  0.6267\n",
            "Accuracy after Hshift augmentation constrained by  16  is  0.6029\n"
          ]
        }
      ]
    },
    {
      "cell_type": "code",
      "metadata": {
        "colab": {
          "base_uri": "https://localhost:8080/"
        },
        "id": "7f2RupE4_5aF",
        "outputId": "36754db2-0aea-41d0-9a96-ddb6f10442f0"
      },
      "source": [
        "Rshiftconstraints = [0, 2, 3, 4, 5] # the values we want to test\n",
        "accuracies = np.zeros(len(Rshiftconstraints), dtype=np.float) # we will save the values here\n",
        "naugmentations = 5\n",
        "\n",
        "for ii in range(len(Rshiftconstraints)):\n",
        "  # create the augmented dataset\n",
        "  augdata = train_X # we include the original images also in the augmented dataset\n",
        "  auglabel = train_y\n",
        "  for jj in range(naugmentations):\n",
        "    augdata = np.concatenate((augdata, augRshift(train_X, Rshiftconstraints[ii]))) # concatenate the augmented data to the set\n",
        "    auglabel = np.concatenate((auglabel, train_y))  # the labels don't change when we augment\n",
        "\n",
        "  # check the test accuracy\n",
        "  testpred = NN(augdata, auglabel, test_X)\n",
        "  accuracies[ii] = Accuracy(test_y, testpred)\n",
        "  print('Accuracy after Rshift augmentation constrained by ',Rshiftconstraints[ii], ' is ', accuracies[ii], flush=True)"
      ],
      "execution_count": null,
      "outputs": [
        {
          "output_type": "stream",
          "name": "stdout",
          "text": [
            "Accuracy after Rshift augmentation constrained by  0  is  0.6472\n",
            "Accuracy after Rshift augmentation constrained by  2  is  0.646\n",
            "Accuracy after Rshift augmentation constrained by  3  is  0.6362\n",
            "Accuracy after Rshift augmentation constrained by  4  is  0.5941\n",
            "Accuracy after Rshift augmentation constrained by  5  is  0.5684\n"
          ]
        }
      ]
    },
    {
      "cell_type": "code",
      "metadata": {
        "id": "eBn45mZjAI27",
        "colab": {
          "base_uri": "https://localhost:8080/"
        },
        "outputId": "dbc2f7ba-494a-4f9c-c1b8-63fb26985d23"
      },
      "source": [
        "Noiseconstraints = [0, 0.2, 0.4, 0.8] # the values we want to test\n",
        "accuracies = np.zeros(len(Noiseconstraints), dtype=np.float) # we will save the values here\n",
        "naugmentations = 5\n",
        "\n",
        "for ii in range(len(Noiseconstraints)):\n",
        "  # create the augmented dataset\n",
        "  augdata = train_X # we include the original images also in the augmented dataset\n",
        "  auglabel = train_y\n",
        "  for jj in range(naugmentations):\n",
        "    augdata = np.concatenate((augdata, augNoise(train_X, Noiseconstraints[ii]))) # concatenate the augmented data to the set\n",
        "    auglabel = np.concatenate((auglabel, train_y))  # the labels don't change when we augment\n",
        "\n",
        "  # check the test accuracy\n",
        "  testpred = NN(augdata, auglabel, test_X)\n",
        "  accuracies[ii] = Accuracy(test_y, testpred)\n",
        "  print('Accuracy after Noise augmentation constrained by ',Noiseconstraints[ii], ' is ', accuracies[ii], flush=True)"
      ],
      "execution_count": null,
      "outputs": [
        {
          "output_type": "stream",
          "name": "stdout",
          "text": [
            "Accuracy after Noise augmentation constrained by  0  is  0.6472\n",
            "Accuracy after Noise augmentation constrained by  0.2  is  0.6506\n",
            "Accuracy after Noise augmentation constrained by  0.4  is  0.65\n",
            "Accuracy after Noise augmentation constrained by  0.8  is  0.654\n"
          ]
        }
      ]
    },
    {
      "cell_type": "markdown",
      "metadata": {
        "id": "OE6XQ42GCaI0"
      },
      "source": [
        "Therefore, we see that all of the above augmentations do increase the accuracies.\n",
        "\n",
        "---"
      ]
    },
    {
      "cell_type": "markdown",
      "metadata": {
        "id": "naAvFKUEPIyl"
      },
      "source": [
        "## Answer for Question 4\n",
        "\n",
        "Till now, the best accuracy I can get is with vertical Shift and rotation combination..."
      ]
    },
    {
      "cell_type": "code",
      "metadata": {
        "colab": {
          "base_uri": "https://localhost:8080/"
        },
        "id": "vp0sVd6CPIGj",
        "outputId": "9e6ee294-f601-4beb-86be-af5560d4133f"
      },
      "source": [
        "constraints = [[0.00,0.00], [40, 2]]\n",
        "test_accuracies = np.zeros(len(constraints), dtype=np.float) # we will save the values here\n",
        "\n",
        "for ii in range(len(constraints)):\n",
        "  # create the augmented dataset\n",
        "  augdata = train_X # we include the original images also in the augmented dataset\n",
        "  auglabel = train_y\n",
        "  for jj in range(naugmentations):\n",
        "    augdata = np.concatenate((augdata, augRotateVshift(train_X, constraints[ii][0], constraints[ii][1]))) # concatenate the augmented data to the set\n",
        "    auglabel = np.concatenate((auglabel, train_y))  # the labels don't change when we augment\n",
        "\n",
        "  # check the test accuracy\n",
        "  testpred = NN(augdata, auglabel, test_X)\n",
        "  test_accuracies[ii] = Accuracy(test_y, testpred)\n",
        "print('Accuracy of dataset with duplicate data points is ',test_accuracies[0], flush=True)\n",
        "print('Accuracy of dataset with augmented data points is ',test_accuracies[1], flush=True)"
      ],
      "execution_count": null,
      "outputs": [
        {
          "output_type": "stream",
          "name": "stdout",
          "text": [
            "Accuracy of dataset with duplicate data points is  0.6472\n",
            "Accuracy of dataset with augmented data points is  0.6859\n"
          ]
        }
      ]
    },
    {
      "cell_type": "markdown",
      "metadata": {
        "id": "zbX9DfWdRXvd"
      },
      "source": [
        "Thus, it looks like rotation and vertical shifting works very well. Thus, the above accuracy is the highest accuracy we have achieved."
      ]
    },
    {
      "cell_type": "code",
      "metadata": {
        "colab": {
          "base_uri": "https://localhost:8080/"
        },
        "id": "UGFr2K8FPGD1",
        "outputId": "58aec88d-a092-4219-a1c8-7442ae6d072d"
      },
      "source": [
        "# now we check our lowest training data size\n",
        "from sklearn.model_selection import train_test_split\n",
        "test_accuracies = [] # we will save the values here\n",
        "variations = [0.50, 0.25, 0.10, 0.0625, 0.05, 0.025, 0.01, 0.005, 0.0025, 0.001]\n",
        "\n",
        "try:\n",
        "  for i in variations:\n",
        "    # create the augmented dataset\n",
        "    augdata, i_, auglabel, n_ = train_test_split(train_X, train_y, train_size = i)\n",
        "\n",
        "    for jj in range(naugmentations):\n",
        "      augdata = np.concatenate((augdata, augRotateVshift(train_X, 40, 2))) # concatenate the augmented data to the set\n",
        "      auglabel = np.concatenate((auglabel, train_y))  # the labels don't change when we augment\n",
        "\n",
        "    # check the test accuracy\n",
        "    testpred = NN(augdata, auglabel, test_X)\n",
        "    current_acc = Accuracy(test_y, testpred)\n",
        "    test_accuracies.append(current_acc)\n",
        "    print(f'Accuracy with {i*100}% data :', current_acc, flush=True)\n",
        "except ValueError:\n",
        "  print(\"Now, the train data cannot be split anymore and thus, the lowest we can go is with the previous percentage of data!\")"
      ],
      "execution_count": null,
      "outputs": [
        {
          "output_type": "stream",
          "name": "stdout",
          "text": [
            "Accuracy with 50.0% data : 0.6847\n",
            "Accuracy with 25.0% data : 0.6813\n",
            "Accuracy with 10.0% data : 0.6866\n",
            "Accuracy with 6.25% data : 0.7012\n",
            "Accuracy with 5.0% data : 0.6753\n",
            "Accuracy with 2.5% data : 0.683\n",
            "Now, the train data cannot be split anymore and thus, the lowest we can go is with the previous percentage of data!\n"
          ]
        }
      ]
    },
    {
      "cell_type": "code",
      "metadata": {
        "colab": {
          "base_uri": "https://localhost:8080/",
          "height": 296
        },
        "id": "2agm2IZdTKno",
        "outputId": "ca6195e5-2c37-4dd7-febd-c01b0df5f242"
      },
      "source": [
        "# plot the variation of accuracy\n",
        "plt.plot(variations[0:len(test_accuracies)], test_accuracies)\n",
        "plt.xlabel('% of data')\n",
        "plt.ylabel('accuracy')"
      ],
      "execution_count": null,
      "outputs": [
        {
          "output_type": "execute_result",
          "data": {
            "text/plain": [
              "Text(0, 0.5, 'accuracy')"
            ]
          },
          "metadata": {},
          "execution_count": 192
        },
        {
          "output_type": "display_data",
          "data": {
            "image/png": "[encoded data removed]",
            "text/plain": [
              "<Figure size 432x288 with 1 Axes>"
            ]
          },
          "metadata": {
            "needs_background": "light"
          }
        }
      ]
    },
    {
      "cell_type": "markdown",
      "metadata": {
        "id": "BIC7SYYiVqYV"
      },
      "source": [
        "---\n"
      ]
    }
  ]
}